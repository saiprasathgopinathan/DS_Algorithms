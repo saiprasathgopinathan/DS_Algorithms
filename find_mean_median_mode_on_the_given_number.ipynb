{
 "cells": [
  {
   "cell_type": "code",
   "execution_count": 219,
   "metadata": {},
   "outputs": [
    {
     "name": "stdout",
     "output_type": "stream",
     "text": [
      "OrderedDict([('mean', 31.67), ('median', 17), ('range', 64)])\n"
     ]
    }
   ],
   "source": [
    "import string\n",
    "from collections import OrderedDict\n",
    "\n",
    "def find_prime(num, prime_lst):\n",
    "    if num > 1:\n",
    "       for i in range(2,num):\n",
    "           if (num % i) == 0:\n",
    "               break\n",
    "       else:\n",
    "           prime_lst.append(num)\n",
    "\n",
    "def final_ans(lst, dict1):\n",
    "    n = len(lst)\n",
    "    sum_var = 0\n",
    "    avg_var = 0\n",
    "    range_var = 0\n",
    "    for i in range(n):\n",
    "        sum_var += lst[i]\n",
    "    range_var = lst[n-1] - lst[0]\n",
    "    avg_var = sum_var/n\n",
    "    mid = n//2\n",
    "    median = lst[mid]\n",
    "    dict1[\"mean\"] = round(avg_var,2)\n",
    "    dict1[\"median\"] = median\n",
    "    dict1[\"range\"] = range_var\n",
    "    return dict1\n",
    "            \n",
    "prime_lst = []\n",
    "n = 177\n",
    "lst = []\n",
    "n_str = str(n)\n",
    "n_len = len(n_str)\n",
    "temp = []\n",
    "temp1 = []\n",
    "for i in range(0, n_len):\n",
    "    temp.append(n_str[i])\n",
    "    for j in range(1, n_len):\n",
    "        temp.append(n_str[i]+n_str[j])\n",
    "        temp.append(n_str[j]+n_str[i])\n",
    "        \n",
    "# temp.append(n_str[n_len-1]+n_str[0])        \n",
    "\n",
    "prime_lst = []\n",
    "for i in temp:\n",
    "    num = int(i)\n",
    "    find_prime(num, prime_lst)\n",
    "\n",
    "prime_lst_sorted = sorted(prime_lst)\n",
    "\n",
    "dict1 = OrderedDict()\n",
    "final_ans(prime_lst_sorted, dict1)\n",
    "print(dict1)"
   ]
  }
 ],
 "metadata": {
  "kernelspec": {
   "display_name": "Python 3",
   "language": "python",
   "name": "python3"
  },
  "language_info": {
   "codemirror_mode": {
    "name": "ipython",
    "version": 3
   },
   "file_extension": ".py",
   "mimetype": "text/x-python",
   "name": "python",
   "nbconvert_exporter": "python",
   "pygments_lexer": "ipython3",
   "version": "3.6.6"
  }
 },
 "nbformat": 4,
 "nbformat_minor": 2
}
